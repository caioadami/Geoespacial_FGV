{
 "cells": [
  {
   "cell_type": "markdown",
   "metadata": {},
   "source": [
    "# Trabalho de Aplicação Geoespacial: "
   ]
  },
  {
   "cell_type": "markdown",
   "metadata": {},
   "source": [
    "## Preparação dos dados "
   ]
  },
  {
   "cell_type": "markdown",
   "metadata": {},
   "source": [
    "### Importação das bibliotecas"
   ]
  },
  {
   "cell_type": "code",
   "execution_count": 1,
   "metadata": {},
   "outputs": [],
   "source": [
    "import pandas as pd\n",
    "import numpy as np\n",
    "import seaborn as sns\n",
    "from matplotlib import pyplot as plt\n",
    "%matplotlib inline\n",
    "\n",
    "pd.set_option(\"display.max_columns\", 137)"
   ]
  },
  {
   "cell_type": "markdown",
   "metadata": {},
   "source": [
    "Importação dos MICRODADOS do ENEM 2018:"
   ]
  },
  {
   "cell_type": "code",
   "execution_count": 91,
   "metadata": {},
   "outputs": [],
   "source": [
    "#%%time\n",
    "#path_enem = 'C:\\\\Users\\\\larii\\\\Desktop\\\\Trabalho_Geoespacial\\\\MICRODADOS_ENEM_2018.csv'\n",
    "#df_enem = pd.read_csv(path_enem, sep=';', encoding=\"ISO-8859-1\")\n",
    "#df_enem.to_pickle('C:\\\\Users\\\\larii\\\\Desktop\\\\Trabalho_Geoespacial\\\\MICRODADOS_ENEM_2018')\n",
    "\n",
    "# Mais de 5 minutos"
   ]
  },
  {
   "cell_type": "markdown",
   "metadata": {},
   "source": [
    "Importando a base no formato .pkl _(muito mais rápido)_"
   ]
  },
  {
   "cell_type": "code",
   "execution_count": 5,
   "metadata": {},
   "outputs": [
    {
     "name": "stdout",
     "output_type": "stream",
     "text": [
      "Wall time: 1min 55s\n"
     ]
    }
   ],
   "source": [
    "%%time\n",
    "df= pd.read_pickle('C:\\\\Users\\\\larii\\\\Desktop\\\\Trabalho_Geoespacial\\\\Bases\\\\MICRODADOS_ENEM_2018')"
   ]
  },
  {
   "cell_type": "code",
   "execution_count": 2,
   "metadata": {},
   "outputs": [
    {
     "name": "stdout",
     "output_type": "stream",
     "text": [
      "Wall time: 1min 2s\n"
     ]
    }
   ],
   "source": [
    "%%time\n",
    "\n",
    "df = pd.read_pickle('D:\\\\DADOS_ENEM\\\\MICRODADOS_ENEM_2019')"
   ]
  },
  {
   "cell_type": "markdown",
   "metadata": {},
   "source": [
    "Criação de uma cópia do DataFrame _(evita fazer alterações no original):_"
   ]
  },
  {
   "cell_type": "code",
   "execution_count": 3,
   "metadata": {},
   "outputs": [
    {
     "data": {
      "text/plain": [
       "(5095270, 136)"
      ]
     },
     "execution_count": 3,
     "metadata": {},
     "output_type": "execute_result"
    }
   ],
   "source": [
    "df.shape"
   ]
  },
  {
   "cell_type": "code",
   "execution_count": 4,
   "metadata": {},
   "outputs": [],
   "source": [
    "#df_enem = df.sample(100000)\n",
    "df_enem = df.copy()"
   ]
  },
  {
   "cell_type": "markdown",
   "metadata": {},
   "source": [
    "### Filtros no Dataset: "
   ]
  },
  {
   "cell_type": "markdown",
   "metadata": {},
   "source": [
    "Apenas alunos que foram em todas as provas:"
   ]
  },
  {
   "cell_type": "code",
   "execution_count": 5,
   "metadata": {},
   "outputs": [
    {
     "name": "stdout",
     "output_type": "stream",
     "text": [
      "A base inicial tem:\n",
      "5095270 tem inscritos.\n",
      "136 colunas\n"
     ]
    }
   ],
   "source": [
    "print('A base inicial tem:\\n{} tem inscritos.\\n{} colunas'.format(df_enem.shape[0], \n",
    "                                                                  df_enem.shape[1]))"
   ]
  },
  {
   "cell_type": "code",
   "execution_count": 6,
   "metadata": {},
   "outputs": [
    {
     "name": "stdout",
     "output_type": "stream",
     "text": [
      "Após filtro dos alunos que estiveram presentes em todas as provas, a base tem:\n",
      "3702008 tem inscritos.\n",
      "136 colunas\n"
     ]
    }
   ],
   "source": [
    "df_enem = df_enem[(df_enem.TP_PRESENCA_CN==1)\n",
    "                 &(df_enem.TP_PRESENCA_CH==1)\n",
    "                 &(df_enem.TP_PRESENCA_LC==1)\n",
    "                 &(df_enem.TP_PRESENCA_MT==1)]\n",
    "\n",
    "print('Após filtro dos alunos que estiveram presentes em todas as provas, a base tem:\\\n",
    "\\n{} tem inscritos.\\n{} colunas'.format(df_enem.shape[0], \n",
    "                                        df_enem.shape[1]))"
   ]
  },
  {
   "cell_type": "markdown",
   "metadata": {},
   "source": [
    "### Avaliando valores nulos:"
   ]
  },
  {
   "cell_type": "code",
   "execution_count": 7,
   "metadata": {},
   "outputs": [],
   "source": [
    "df_nulos = pd.DataFrame(df_enem.isnull().sum()/df_enem.shape[0]).sort_values(0, ascending=False).reset_index()\n",
    "df_nulos.columns = ['Feature', 'tx_nulos']"
   ]
  },
  {
   "cell_type": "markdown",
   "metadata": {},
   "source": [
    "Avaliando as features com MUNICIPIO no nome:"
   ]
  },
  {
   "cell_type": "code",
   "execution_count": 8,
   "metadata": {},
   "outputs": [
    {
     "data": {
      "text/html": [
       "<div>\n",
       "<style scoped>\n",
       "    .dataframe tbody tr th:only-of-type {\n",
       "        vertical-align: middle;\n",
       "    }\n",
       "\n",
       "    .dataframe tbody tr th {\n",
       "        vertical-align: top;\n",
       "    }\n",
       "\n",
       "    .dataframe thead th {\n",
       "        text-align: right;\n",
       "    }\n",
       "</style>\n",
       "<table border=\"1\" class=\"dataframe\">\n",
       "  <thead>\n",
       "    <tr style=\"text-align: right;\">\n",
       "      <th></th>\n",
       "      <th>Feature</th>\n",
       "      <th>tx_nulos</th>\n",
       "    </tr>\n",
       "  </thead>\n",
       "  <tbody>\n",
       "    <tr>\n",
       "      <td>5</td>\n",
       "      <td>NO_MUNICIPIO_ESC</td>\n",
       "      <td>0.742326</td>\n",
       "    </tr>\n",
       "    <tr>\n",
       "      <td>6</td>\n",
       "      <td>CO_MUNICIPIO_ESC</td>\n",
       "      <td>0.742326</td>\n",
       "    </tr>\n",
       "    <tr>\n",
       "      <td>9</td>\n",
       "      <td>NO_MUNICIPIO_NASCIMENTO</td>\n",
       "      <td>0.028686</td>\n",
       "    </tr>\n",
       "    <tr>\n",
       "      <td>12</td>\n",
       "      <td>CO_MUNICIPIO_NASCIMENTO</td>\n",
       "      <td>0.028686</td>\n",
       "    </tr>\n",
       "    <tr>\n",
       "      <td>34</td>\n",
       "      <td>CO_MUNICIPIO_PROVA</td>\n",
       "      <td>0.000000</td>\n",
       "    </tr>\n",
       "    <tr>\n",
       "      <td>35</td>\n",
       "      <td>NO_MUNICIPIO_PROVA</td>\n",
       "      <td>0.000000</td>\n",
       "    </tr>\n",
       "    <tr>\n",
       "      <td>102</td>\n",
       "      <td>NO_MUNICIPIO_RESIDENCIA</td>\n",
       "      <td>0.000000</td>\n",
       "    </tr>\n",
       "    <tr>\n",
       "      <td>103</td>\n",
       "      <td>CO_MUNICIPIO_RESIDENCIA</td>\n",
       "      <td>0.000000</td>\n",
       "    </tr>\n",
       "  </tbody>\n",
       "</table>\n",
       "</div>"
      ],
      "text/plain": [
       "                     Feature  tx_nulos\n",
       "5           NO_MUNICIPIO_ESC  0.742326\n",
       "6           CO_MUNICIPIO_ESC  0.742326\n",
       "9    NO_MUNICIPIO_NASCIMENTO  0.028686\n",
       "12   CO_MUNICIPIO_NASCIMENTO  0.028686\n",
       "34        CO_MUNICIPIO_PROVA  0.000000\n",
       "35        NO_MUNICIPIO_PROVA  0.000000\n",
       "102  NO_MUNICIPIO_RESIDENCIA  0.000000\n",
       "103  CO_MUNICIPIO_RESIDENCIA  0.000000"
      ]
     },
     "execution_count": 8,
     "metadata": {},
     "output_type": "execute_result"
    }
   ],
   "source": [
    "nome_com_municipio = ['MUNICIPIO' in x for x in df_enem.columns]\n",
    "df_nulos[df_nulos.Feature.isin(df_enem.columns[nome_com_municipio])]"
   ]
  },
  {
   "cell_type": "markdown",
   "metadata": {},
   "source": [
    "Conclusão:\n",
    "- As features de município da escola tem mais de 70% de nulos\n",
    "- Vamos avaliar a % de municipio de residência que bate com município da escola."
   ]
  },
  {
   "cell_type": "code",
   "execution_count": 98,
   "metadata": {},
   "outputs": [],
   "source": [
    "#df = df_enem[['NO_MUNICIPIO_ESC','NO_MUNICIPIO_RESIDENCIA']].dropna().reset_index(drop=True)"
   ]
  },
  {
   "cell_type": "code",
   "execution_count": 9,
   "metadata": {},
   "outputs": [],
   "source": [
    "escola_igual_residencia = np.sum([df.loc[i, 'NO_MUNICIPIO_ESC']==df.loc[i,'NO_MUNICIPIO_RESIDENCIA'] for i in range(df.shape[0])])/df.shape[0]"
   ]
  },
  {
   "cell_type": "code",
   "execution_count": 10,
   "metadata": {},
   "outputs": [
    {
     "data": {
      "text/plain": [
       "0.20828336869292502"
      ]
     },
     "execution_count": 10,
     "metadata": {},
     "output_type": "execute_result"
    }
   ],
   "source": [
    "escola_igual_residencia"
   ]
  },
  {
   "cell_type": "markdown",
   "metadata": {},
   "source": [
    "Transformação de features numéricas em categóricas:"
   ]
  },
  {
   "cell_type": "code",
   "execution_count": 11,
   "metadata": {},
   "outputs": [],
   "source": [
    "df_enem.CO_MUNICIPIO_RESIDENCIA = df_enem.CO_MUNICIPIO_RESIDENCIA.astype(str) \n",
    "df_enem.TP_STATUS_REDACAO = df_enem.TP_STATUS_REDACAO.astype(str) \n",
    "df_enem.TP_LINGUA = df_enem.TP_LINGUA.astype(str) "
   ]
  },
  {
   "cell_type": "markdown",
   "metadata": {},
   "source": [
    "### Condições Especial mais frequentes: "
   ]
  },
  {
   "cell_type": "code",
   "execution_count": 102,
   "metadata": {
    "scrolled": true
   },
   "outputs": [],
   "source": [
    "#nome_com_in = ['IN_' in x for x in df_enem.columns]\n",
    "#(100*df_enem[df_enem.columns[nome_com_in]].sum()/df_enem.shape[0]).sort_values(ascending=False)"
   ]
  },
  {
   "cell_type": "markdown",
   "metadata": {},
   "source": [
    "#### Como está a distribuição dos tipos de dados nesta base:\n",
    "\n",
    "- O ponto aqui é que tem muita feature que apresenta apenas valores em string ('um', 'dois', 'três', ...) e que facilitaria nossa vida no futuro se fossem convertidos para float64 ou int64.\n",
    "- Precisamos olhar o dicionário de features disponibilizados pelo governo, avaliando feature a feature."
   ]
  },
  {
   "cell_type": "code",
   "execution_count": 103,
   "metadata": {},
   "outputs": [
    {
     "data": {
      "text/plain": [
       "int64      62\n",
       "object     46\n",
       "float64    29\n",
       "dtype: int64"
      ]
     },
     "execution_count": 103,
     "metadata": {},
     "output_type": "execute_result"
    }
   ],
   "source": [
    "df_enem.dtypes.value_counts()"
   ]
  },
  {
   "cell_type": "markdown",
   "metadata": {},
   "source": [
    "Algumas features categóricas podem ser convertidas em numéricas:\n",
    "- Nenhum ou Não tem -> 0;\n",
    "- um -> 1;\n",
    "- dois -> 2;\n",
    "- três -> 3;\n",
    "- Quatro ou mais -> 4"
   ]
  },
  {
   "cell_type": "code",
   "execution_count": 12,
   "metadata": {},
   "outputs": [],
   "source": [
    "dict_Q1 = {'A':0,\n",
    "           'B':1,\n",
    "           'C':2,\n",
    "           'D':3,\n",
    "           'E':4}\n",
    "questoes = ['Q007','Q008','Q009','Q010','Q011','Q012','Q013',\n",
    "           'Q014','Q015','Q016','Q017','Q019','Q022','Q024']"
   ]
  },
  {
   "cell_type": "code",
   "execution_count": 13,
   "metadata": {},
   "outputs": [],
   "source": [
    "for col in questoes:\n",
    "    df_enem[col] = [dict_Q1[x] for x in df_enem[col]]"
   ]
  },
  {
   "cell_type": "markdown",
   "metadata": {},
   "source": [
    "As outras questõesserãomantidas como categóricas:\n",
    "\n",
    "- [1-4] + 18 + 20 + 21 + 23 + [25-27] são categóricas;"
   ]
  },
  {
   "cell_type": "markdown",
   "metadata": {},
   "source": [
    "### Separação das features que serão utilizadas: "
   ]
  },
  {
   "cell_type": "markdown",
   "metadata": {},
   "source": [
    "Agora, precisamos criar as features agrupadas por municpio:"
   ]
  },
  {
   "cell_type": "code",
   "execution_count": 14,
   "metadata": {},
   "outputs": [],
   "source": [
    "col_aluno = ['CO_MUNICIPIO_RESIDENCIA',\n",
    "             'NU_IDADE']#, 'TP_DEPENDENCIA_ADM_ESC', 'TP_LOCALIZACAO_ESC', 'TP_SIT_FUNC_ESC']"
   ]
  },
  {
   "cell_type": "code",
   "execution_count": 15,
   "metadata": {},
   "outputs": [],
   "source": [
    "col_prova = [ 'NU_NOTA_CN', 'NU_NOTA_CH', 'NU_NOTA_LC',\n",
    "       'NU_NOTA_MT', 'TP_LINGUA',\n",
    "       'NU_NOTA_REDACAO']"
   ]
  },
  {
   "cell_type": "code",
   "execution_count": 20,
   "metadata": {},
   "outputs": [],
   "source": [
    "col_social = ['Q001', 'Q002', 'Q003', 'Q004', 'Q005', 'Q006',\n",
    "       'Q007', 'Q008', 'Q009', 'Q010', 'Q011', 'Q012', 'Q013', 'Q014',\n",
    "       'Q015', 'Q016', 'Q017', 'Q018', 'Q019', 'Q020', 'Q021', 'Q022',\n",
    "       'Q023', 'Q024', 'Q025']#, 'Q026', 'Q027']"
   ]
  },
  {
   "cell_type": "markdown",
   "metadata": {},
   "source": [
    "Tratamento col_aluno:"
   ]
  },
  {
   "cell_type": "code",
   "execution_count": 21,
   "metadata": {},
   "outputs": [],
   "source": [
    "for col in col_aluno[2:]:\n",
    "    if df_enem[col].dtype in ['int64', 'float64']:\n",
    "        df_enem[col] = df_enem[col].astype(str).fillna('NA')\n",
    "        #df_enem[col] = [col+'_'+x for x in df_enem[col]]\n",
    "#pd.get_dummies(df_enem[col_aluno])"
   ]
  },
  {
   "cell_type": "code",
   "execution_count": 110,
   "metadata": {},
   "outputs": [],
   "source": [
    "#df_enem[col_in] = df_enem[col_in].astype(str)"
   ]
  },
  {
   "cell_type": "code",
   "execution_count": 22,
   "metadata": {},
   "outputs": [],
   "source": [
    "df_enem =df_enem[col_aluno + col_prova + col_social]"
   ]
  },
  {
   "cell_type": "markdown",
   "metadata": {},
   "source": [
    "Vamos criar um feature numérica para a renda (que é dividida em faixas):"
   ]
  },
  {
   "cell_type": "code",
   "execution_count": 23,
   "metadata": {},
   "outputs": [
    {
     "name": "stderr",
     "output_type": "stream",
     "text": [
      "C:\\Users\\larii\\anaconda3\\lib\\site-packages\\ipykernel_launcher.py:7: SettingWithCopyWarning: \n",
      "A value is trying to be set on a copy of a slice from a DataFrame.\n",
      "Try using .loc[row_indexer,col_indexer] = value instead\n",
      "\n",
      "See the caveats in the documentation: http://pandas.pydata.org/pandas-docs/stable/user_guide/indexing.html#returning-a-view-versus-a-copy\n",
      "  import sys\n"
     ]
    }
   ],
   "source": [
    "dict_renda = {'A':0,\n",
    "              'B':477,'C':1192.505,'D':1669.505,'E':2146.505,'F':2623.505,'G':3339.005,\n",
    "              'H':4293.005,'I':5247.005,'J':6201.005,\n",
    "              'K':7155.005,'L':8109.005,'M':9063.005,'N':10494.005,\n",
    "              'O':12879.005,'P':16695.01,'Q':19080}\n",
    "\n",
    "df_enem['Renda'] = [dict_renda[x] for x in df_enem.Q006]"
   ]
  },
  {
   "cell_type": "markdown",
   "metadata": {},
   "source": [
    "Colunas que são object:"
   ]
  },
  {
   "cell_type": "code",
   "execution_count": 24,
   "metadata": {},
   "outputs": [],
   "source": [
    "df_obj = df_enem[df_enem.columns[list(df_enem.dtypes=='object')]].drop('CO_MUNICIPIO_RESIDENCIA', axis=1)\n",
    "df_num = df_enem[df_enem.columns[list(df_enem.dtypes!='object')]]"
   ]
  },
  {
   "cell_type": "code",
   "execution_count": 25,
   "metadata": {},
   "outputs": [],
   "source": [
    "df_obj = pd.get_dummies(df_obj)"
   ]
  },
  {
   "cell_type": "code",
   "execution_count": 26,
   "metadata": {},
   "outputs": [
    {
     "name": "stderr",
     "output_type": "stream",
     "text": [
      "C:\\Users\\larii\\anaconda3\\lib\\site-packages\\ipykernel_launcher.py:1: SettingWithCopyWarning: \n",
      "A value is trying to be set on a copy of a slice from a DataFrame.\n",
      "Try using .loc[row_indexer,col_indexer] = value instead\n",
      "\n",
      "See the caveats in the documentation: http://pandas.pydata.org/pandas-docs/stable/user_guide/indexing.html#returning-a-view-versus-a-copy\n",
      "  \"\"\"Entry point for launching an IPython kernel.\n"
     ]
    }
   ],
   "source": [
    "df_num['CO_MUNICIPIO_RESIDENCIA'] = df_enem['CO_MUNICIPIO_RESIDENCIA']\n",
    "df_obj['CO_MUNICIPIO_RESIDENCIA'] = df_enem['CO_MUNICIPIO_RESIDENCIA']"
   ]
  },
  {
   "cell_type": "markdown",
   "metadata": {},
   "source": [
    "### Agregação das features em Municípios: "
   ]
  },
  {
   "cell_type": "code",
   "execution_count": 27,
   "metadata": {},
   "outputs": [],
   "source": [
    "dict_agg = {x:'sum' for x in df_obj.columns }\n",
    "dict_agg['CO_MUNICIPIO_RESIDENCIA'] = 'count'\n",
    "\n",
    "df_obj_agg = df_obj.groupby('CO_MUNICIPIO_RESIDENCIA').agg(dict_agg)\n",
    "df_obj_agg.columns = list(df_obj_agg.columns[:-1])+['TOTAL']\n",
    "df_obj_agg.reset_index(inplace=True)"
   ]
  },
  {
   "cell_type": "code",
   "execution_count": 28,
   "metadata": {},
   "outputs": [
    {
     "name": "stdout",
     "output_type": "stream",
     "text": [
      "Wall time: 17.9 s\n"
     ]
    }
   ],
   "source": [
    "%%time\n",
    "df_T = df_obj_agg.T.astype('int64')\n",
    "for cidade in df_T.columns :#.loc['TOTAL',:]\n",
    "    total=df_T.loc['TOTAL',cidade]\n",
    "    if df_T[cidade].dtype!='object':\n",
    "        df_T[cidade] = df_T[cidade].values/total  \n"
   ]
  },
  {
   "cell_type": "code",
   "execution_count": 29,
   "metadata": {},
   "outputs": [],
   "source": [
    "df_T_T = df_T.T\n",
    "df_T_T['CO_MUNICIPIO_RESIDENCIA'] = df_obj_agg['CO_MUNICIPIO_RESIDENCIA']\n",
    "df_T_T['TOTAL'] = df_obj_agg['TOTAL']\n",
    "df_obj_agg = df_T_T\n",
    "df_obj_agg['CO_MUNICIPIO_RESIDENCIA'] = df_obj_agg['CO_MUNICIPIO_RESIDENCIA'].astype(str)\n"
   ]
  },
  {
   "cell_type": "code",
   "execution_count": 30,
   "metadata": {},
   "outputs": [],
   "source": [
    "dict_agg_num = {x:['mean', 'median', 'std'] for x in df_num.columns[:-1] }"
   ]
  },
  {
   "cell_type": "code",
   "execution_count": 31,
   "metadata": {},
   "outputs": [],
   "source": [
    "df_num_agg = df_num.groupby('CO_MUNICIPIO_RESIDENCIA',as_index=False).agg(dict_agg_num)"
   ]
  },
  {
   "cell_type": "code",
   "execution_count": 32,
   "metadata": {},
   "outputs": [],
   "source": [
    "cols = df_num.columns[:-1]\n",
    "cols_new = []\n",
    "for col in cols:\n",
    "    for value in ['mean', 'median', 'std']:\n",
    "        col_new = col + '_' + value\n",
    "        cols_new.append(col_new)\n",
    "\n",
    "df_num_agg.columns = df_num_agg.columns.droplevel()\n",
    "df_num_agg.columns = ['CO_MUNICIPIO_RESIDENCIA'] + cols_new"
   ]
  },
  {
   "cell_type": "code",
   "execution_count": 33,
   "metadata": {},
   "outputs": [],
   "source": [
    "df_municipio = df_obj_agg.merge(df_num_agg, how = 'inner', on='CO_MUNICIPIO_RESIDENCIA')\n",
    "de_para_municipios = df[['CO_MUNICIPIO_RESIDENCIA','NO_MUNICIPIO_RESIDENCIA','SG_UF_RESIDENCIA']].drop_duplicates().astype(str).reset_index(drop=True)"
   ]
  },
  {
   "cell_type": "code",
   "execution_count": 34,
   "metadata": {},
   "outputs": [],
   "source": [
    "de_para_municipios['NO_MUNICIPIO_RESIDENCIA'] = [de_para_municipios.loc[i,'NO_MUNICIPIO_RESIDENCIA'] + '_' +\n",
    "                                     de_para_municipios.loc[i,'SG_UF_RESIDENCIA']  for i in range(de_para_municipios.shape[0])]"
   ]
  },
  {
   "cell_type": "code",
   "execution_count": 124,
   "metadata": {},
   "outputs": [],
   "source": [
    "#df_municipio.to_pickle('..\\\\Bases\\\\df_municipio')"
   ]
  },
  {
   "cell_type": "markdown",
   "metadata": {},
   "source": [
    "### Base Atlas de indicadores agregados: "
   ]
  },
  {
   "cell_type": "code",
   "execution_count": 36,
   "metadata": {},
   "outputs": [],
   "source": [
    "df_ind = pd.read_excel('C:\\\\Users\\\\larii\\\\Desktop\\\\Trabalho_Geoespacial\\\\Bases\\\\INDICES_AGREGADOS.xlsx')\n"
   ]
  },
  {
   "cell_type": "code",
   "execution_count": 37,
   "metadata": {},
   "outputs": [
    {
     "data": {
      "text/plain": [
       "(5566, 16)"
      ]
     },
     "execution_count": 37,
     "metadata": {},
     "output_type": "execute_result"
    }
   ],
   "source": [
    "df_ind.shape"
   ]
  },
  {
   "cell_type": "code",
   "execution_count": 38,
   "metadata": {},
   "outputs": [],
   "source": [
    "df_ind['Código'] = df_ind['Código'].astype(str)"
   ]
  },
  {
   "cell_type": "code",
   "execution_count": 39,
   "metadata": {},
   "outputs": [],
   "source": [
    "df_ind.columns = ['CO_MUNICIPIO_RESIDENCIA', 'NOME_MUNIC', 'Índice de Theil - L 2010',\n",
    "       'Índice de Gini 2010',\n",
    "       '% da população em domicílios com água encanada 2010',\n",
    "       '% da população em domicílios com banheiro e água encanada 2010',\n",
    "       '% da população em domicílios com coleta de lixo 2010',\n",
    "       '% da população em domicílios com energia elétrica 2010',\n",
    "       '% de pessoas em domicílios com paredes inadequadas 2010',\n",
    "       '% de pessoas em domicílios com abastecimento de água e esgotamento sanitário inadequados 2010',\n",
    "       'População total 2010', 'IDHM 2010', 'IDHM Renda 2010',\n",
    "       'IDHM Longevidade 2010', 'IDHM Educação 2010', 'Renda per capita 2010']\n",
    "df_ind.drop(['NOME_MUNIC'], axis=1, inplace=True)"
   ]
  },
  {
   "cell_type": "code",
   "execution_count": 40,
   "metadata": {},
   "outputs": [],
   "source": [
    "df_municipio = df_municipio.merge(df_ind, how='left', on='CO_MUNICIPIO_RESIDENCIA').fillna(-1)"
   ]
  },
  {
   "cell_type": "code",
   "execution_count": 42,
   "metadata": {},
   "outputs": [],
   "source": [
    "df_municipio.to_pickle('C:\\\\Users\\\\larii\\\\Desktop\\\\Trabalho_Geoespacial\\\\Bases\\\\df_municipio_2019')"
   ]
  },
  {
   "cell_type": "code",
   "execution_count": null,
   "metadata": {},
   "outputs": [],
   "source": []
  },
  {
   "cell_type": "code",
   "execution_count": 43,
   "metadata": {},
   "outputs": [],
   "source": [
    "df_IFDM = pd.read_excel('C:\\\\Users\\\\larii\\\\Desktop\\\\Trabalho_Geoespacial\\\\Bases\\\\IFDM.xlsx', skiprows=8)\n"
   ]
  },
  {
   "cell_type": "code",
   "execution_count": 44,
   "metadata": {},
   "outputs": [],
   "source": [
    "df_IFDM.drop([0,5566,5567],axis=0,inplace=True)"
   ]
  },
  {
   "cell_type": "code",
   "execution_count": 45,
   "metadata": {},
   "outputs": [],
   "source": [
    "df_IFDM = df_IFDM[['UF', 'Município',\n",
    "                   'IFDM', 'Emprego & Renda', 'Educação', 'Saúde']].replace('ND', -1)\n",
    "\n",
    "df_IFDM.columns = ['SG_UF_RESIDENCIA', 'NO_MUNICIPIO_RESIDENCIA',\n",
    "                   'IFDM', 'Emprego & Renda', 'Educação', 'Saúde']"
   ]
  },
  {
   "cell_type": "code",
   "execution_count": 46,
   "metadata": {},
   "outputs": [],
   "source": [
    "df_IFDM = df_IFDM.merge(de_para_municipios, how='left', on=['NO_MUNICIPIO_RESIDENCIA', 'SG_UF_RESIDENCIA'])"
   ]
  },
  {
   "cell_type": "code",
   "execution_count": 47,
   "metadata": {},
   "outputs": [],
   "source": [
    "df_municipio = df_municipio.merge(df_IFDM, how='left', on='CO_MUNICIPIO_RESIDENCIA').drop(['SG_UF_RESIDENCIA','NO_MUNICIPIO_RESIDENCIA'],axis=1)"
   ]
  },
  {
   "cell_type": "code",
   "execution_count": 48,
   "metadata": {},
   "outputs": [],
   "source": [
    "for col in df_municipio.columns[df_municipio.isnull().sum()>0]:\n",
    "    df_municipio[col].fillna(df_municipio[col].mean(), inplace=True)"
   ]
  },
  {
   "cell_type": "code",
   "execution_count": 49,
   "metadata": {},
   "outputs": [],
   "source": [
    "df_municipio.to_pickle('C:\\\\Users\\\\larii\\\\Desktop\\\\Trabalho_Geoespacial\\\\Bases\\\\df_municipio_2019')"
   ]
  },
  {
   "cell_type": "code",
   "execution_count": 226,
   "metadata": {},
   "outputs": [],
   "source": []
  }
 ],
 "metadata": {
  "kernelspec": {
   "display_name": "Python 3",
   "language": "python",
   "name": "python3"
  },
  "language_info": {
   "codemirror_mode": {
    "name": "ipython",
    "version": 3
   },
   "file_extension": ".py",
   "mimetype": "text/x-python",
   "name": "python",
   "nbconvert_exporter": "python",
   "pygments_lexer": "ipython3",
   "version": "3.7.6"
  }
 },
 "nbformat": 4,
 "nbformat_minor": 2
}
